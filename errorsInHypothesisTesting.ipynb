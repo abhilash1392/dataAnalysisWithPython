{
 "cells": [
  {
   "cell_type": "code",
   "execution_count": 1,
   "metadata": {},
   "outputs": [],
   "source": [
    "import numpy as np\n",
    "from scipy import stats"
   ]
  },
  {
   "cell_type": "markdown",
   "metadata": {},
   "source": [
    "Defining a function for calculating alpha"
   ]
  },
  {
   "cell_type": "code",
   "execution_count": 2,
   "metadata": {},
   "outputs": [],
   "source": [
    "def z_value(x,mu,SEM):\n",
    "    z=(x-mu)/SEM\n",
    "    if z<0:\n",
    "        alpha= stats.norm.cdf(z)\n",
    "    else:\n",
    "        alpha= 1-stats.norm.cdf(z)\n",
    "    print(alpha)"
   ]
  },
  {
   "cell_type": "code",
   "execution_count": 3,
   "metadata": {},
   "outputs": [],
   "source": [
    "x=48.5\n",
    "mu=50\n",
    "SEM=0.79"
   ]
  },
  {
   "cell_type": "code",
   "execution_count": 4,
   "metadata": {},
   "outputs": [
    {
     "name": "stdout",
     "output_type": "stream",
     "text": [
      "0.02879971774715278\n"
     ]
    }
   ],
   "source": [
    "z_value(x,mu,SEM)"
   ]
  },
  {
   "cell_type": "code",
   "execution_count": 5,
   "metadata": {},
   "outputs": [
    {
     "name": "stdout",
     "output_type": "stream",
     "text": [
      "0.02879971774715273\n"
     ]
    }
   ],
   "source": [
    "z_value(51.5,50,0.79)"
   ]
  },
  {
   "cell_type": "code",
   "execution_count": 6,
   "metadata": {},
   "outputs": [
    {
     "name": "stdout",
     "output_type": "stream",
     "text": [
      "0.056\n"
     ]
    }
   ],
   "source": [
    "alpha=2*0.028\n",
    "print(alpha) # Type "
   ]
  },
  {
   "cell_type": "code",
   "execution_count": 7,
   "metadata": {},
   "outputs": [],
   "source": [
    "# Calculating the type two error\n",
    "def type_2_error(mu1,mu2,sigma,n,alpha):\n",
    "    z=stats.norm.ppf(alpha)\n",
    "    xbar=mu1+(z*sigma/np.sqrt(n))\n",
    "    z2=(xbar-mu2)/(sigma/np.sqrt(n))\n",
    "    if mu1>mu2:\n",
    "        beta=1-stats.norm.cdf(z2)\n",
    "    else:\n",
    "        beta=stats.norm.cdf(z2)\n",
    "        \n",
    "    print(beta)"
   ]
  },
  {
   "cell_type": "code",
   "execution_count": 8,
   "metadata": {},
   "outputs": [
    {
     "name": "stdout",
     "output_type": "stream",
     "text": [
      "0.27292999450730004\n"
     ]
    }
   ],
   "source": [
    "type_2_error(8.3,7.4,3.1,60,0.05)"
   ]
  },
  {
   "cell_type": "markdown",
   "metadata": {},
   "source": [
    "# Power of a test\n",
    "\n",
    "Example:\n",
    "\n",
    "1) The mean response time for a random sample of 40 is 13.25 min\n",
    "\n",
    "2) The population standard deviation is believed to be 3.2 min\n",
    "\n",
    "3) The restaurant owner wants to perform an hypothesis test, with alpha=0.05 level of significance, to determine whether the service goal of 12 minutes is possible or not"
   ]
  },
  {
   "cell_type": "code",
   "execution_count": 9,
   "metadata": {},
   "outputs": [],
   "source": [
    "# Null Hypothesis H0<=12min\n",
    "# Alternate Hypothesis H1>12 min\n",
    "# Since the sign of alternate Hypothesis is towards right so its a right tail test\n",
    "# First let us calculate the p-value for calculating the type 1 error\n",
    "\n",
    "def p_value(x,mu,sigma,n,alpha):\n",
    "    z=(x-mu)/(sigma/np.sqrt(n))\n",
    "    if z>0:\n",
    "        p=1-stats.norm.cdf(z)\n",
    "    else:\n",
    "        p=stats.norm.cdf(z)\n",
    "    print('p_value: ',p)\n",
    "    if p>alpha:\n",
    "        print('Do not reject null hypothesis')\n",
    "    else:\n",
    "        print('Reject null hypothesis')\n",
    "        \n",
    "        "
   ]
  },
  {
   "cell_type": "code",
   "execution_count": 10,
   "metadata": {},
   "outputs": [
    {
     "name": "stdout",
     "output_type": "stream",
     "text": [
      "p_value:  0.006745661019400884\n",
      "Reject null hypothesis\n"
     ]
    }
   ],
   "source": [
    "p_value(13.25,12,3.2,40,0.05)"
   ]
  },
  {
   "cell_type": "code",
   "execution_count": 13,
   "metadata": {},
   "outputs": [
    {
     "name": "stdout",
     "output_type": "stream",
     "text": [
      "0.010499750448532241\n",
      "0.09345396003091966\n",
      "0.37010702160652986\n",
      "0.7442943862284743\n",
      "0.9497958287324415\n"
     ]
    }
   ],
   "source": [
    "for i in [14,13.5,13,12.5,12.001]:\n",
    "    type_2_error(i,12,3.2,40,0.05)"
   ]
  },
  {
   "cell_type": "code",
   "execution_count": 14,
   "metadata": {},
   "outputs": [],
   "source": [
    "# Power of a test 1-type2Error"
   ]
  }
 ],
 "metadata": {
  "kernelspec": {
   "display_name": "Python 3",
   "language": "python",
   "name": "python3"
  },
  "language_info": {
   "codemirror_mode": {
    "name": "ipython",
    "version": 3
   },
   "file_extension": ".py",
   "mimetype": "text/x-python",
   "name": "python",
   "nbconvert_exporter": "python",
   "pygments_lexer": "ipython3",
   "version": "3.8.5"
  }
 },
 "nbformat": 4,
 "nbformat_minor": 4
}
